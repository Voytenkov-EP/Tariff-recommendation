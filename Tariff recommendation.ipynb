{
  "nbformat": 4,
  "nbformat_minor": 0,
  "metadata": {
    "kernelspec": {
      "display_name": "Python 3",
      "language": "python",
      "name": "python3"
    },
    "language_info": {
      "codemirror_mode": {
        "name": "ipython",
        "version": 3
      },
      "file_extension": ".py",
      "mimetype": "text/x-python",
      "name": "python",
      "nbconvert_exporter": "python",
      "pygments_lexer": "ipython3",
      "version": "3.7.8"
    },
    "toc": {
      "base_numbering": 1,
      "nav_menu": {},
      "number_sections": true,
      "sideBar": true,
      "skip_h1_title": true,
      "title_cell": "Table of Contents",
      "title_sidebar": "Contents",
      "toc_cell": false,
      "toc_position": {},
      "toc_section_display": true,
      "toc_window_display": false
    },
    "colab": {
      "name": "Tariff recommendation.ipynb",
      "provenance": []
    }
  },
  "cells": [
    {
      "cell_type": "markdown",
      "metadata": {
        "id": "nAMNE6T9l-uD"
      },
      "source": [
        "# Рекомендация тарифов"
      ]
    },
    {
      "cell_type": "markdown",
      "metadata": {
        "id": "NDzBGcA4l-uD"
      },
      "source": [
        "В моем распоряжении данные о поведении клиентов, которые уже перешли на эти тарифы (из проекта курса «Статистический анализ данных»). Нужно построить модель для задачи классификации, которая выберет подходящий тариф. Предобработка данных не понадобится — я проводил её в предыдущем проекте.\n",
        "\n",
        "Нужно построить модель с максимально большим значением *accuracy*. Чтобы сдать проект успешно, нужно довести долю правильных ответов по крайней мере до 0.75. "
      ]
    },
    {
      "cell_type": "markdown",
      "metadata": {
        "id": "Xpu3yPC6l-uE"
      },
      "source": [
        "<div>\n",
        "    \n",
        "<b> Описание проекта</b>\n",
        "    \n",
        "В данном проекте необходимо построить модель, которая будет подбирать подходящий тариф для пользователя\n",
        "    \n",
        "Данный проект состоит из пяти основных частей:\n",
        "    \n",
        "* Открытие файла и изучение данных\n",
        "* Разделение исходных данных на обучающую, валидационную и тестовую выборки\n",
        "* Исследование качества разных моделей, с разными значениями гиперпараметров\n",
        "* Проверка качества модели на тестовой выборке\n",
        "* Проверка модели на вменяемость\n",
        "* Общий вывод\n",
        "    \n",
        "</div>"
      ]
    },
    {
      "cell_type": "markdown",
      "metadata": {
        "id": "eAbCWPS4l-uE"
      },
      "source": [
        "## Открытие файла и изучение данных"
      ]
    },
    {
      "cell_type": "code",
      "metadata": {
        "id": "tC-kqxYtl-uF"
      },
      "source": [
        "import pandas as pd\n",
        "import numpy as np\n",
        "from sklearn.model_selection import train_test_split\n",
        "from sklearn.metrics import mean_squared_error\n",
        "from sklearn.linear_model import LogisticRegression\n",
        "from sklearn.ensemble import RandomForestClassifier\n",
        "from sklearn.tree import DecisionTreeClassifier\n",
        "from sklearn.metrics import accuracy_score\n",
        "from sklearn.linear_model import LinearRegression\n",
        "from random import randint\n",
        "import warnings\n",
        "warnings.filterwarnings('ignore')\n",
        "from sklearn.dummy import DummyClassifier"
      ],
      "execution_count": null,
      "outputs": []
    },
    {
      "cell_type": "code",
      "metadata": {
        "id": "YpJidz3ol-uG"
      },
      "source": [
        "df = pd.read_csv('/datasets/users_behavior.csv')"
      ],
      "execution_count": null,
      "outputs": []
    },
    {
      "cell_type": "code",
      "metadata": {
        "id": "FqW15w-bl-uH",
        "outputId": "7634e74d-9c7f-4dc9-baa5-15fc7d339cfc"
      },
      "source": [
        "df.head()"
      ],
      "execution_count": null,
      "outputs": [
        {
          "output_type": "execute_result",
          "data": {
            "text/html": [
              "<div>\n",
              "<style scoped>\n",
              "    .dataframe tbody tr th:only-of-type {\n",
              "        vertical-align: middle;\n",
              "    }\n",
              "\n",
              "    .dataframe tbody tr th {\n",
              "        vertical-align: top;\n",
              "    }\n",
              "\n",
              "    .dataframe thead th {\n",
              "        text-align: right;\n",
              "    }\n",
              "</style>\n",
              "<table border=\"1\" class=\"dataframe\">\n",
              "  <thead>\n",
              "    <tr style=\"text-align: right;\">\n",
              "      <th></th>\n",
              "      <th>calls</th>\n",
              "      <th>minutes</th>\n",
              "      <th>messages</th>\n",
              "      <th>mb_used</th>\n",
              "      <th>is_ultra</th>\n",
              "    </tr>\n",
              "  </thead>\n",
              "  <tbody>\n",
              "    <tr>\n",
              "      <td>0</td>\n",
              "      <td>40.0</td>\n",
              "      <td>311.90</td>\n",
              "      <td>83.0</td>\n",
              "      <td>19915.42</td>\n",
              "      <td>0</td>\n",
              "    </tr>\n",
              "    <tr>\n",
              "      <td>1</td>\n",
              "      <td>85.0</td>\n",
              "      <td>516.75</td>\n",
              "      <td>56.0</td>\n",
              "      <td>22696.96</td>\n",
              "      <td>0</td>\n",
              "    </tr>\n",
              "    <tr>\n",
              "      <td>2</td>\n",
              "      <td>77.0</td>\n",
              "      <td>467.66</td>\n",
              "      <td>86.0</td>\n",
              "      <td>21060.45</td>\n",
              "      <td>0</td>\n",
              "    </tr>\n",
              "    <tr>\n",
              "      <td>3</td>\n",
              "      <td>106.0</td>\n",
              "      <td>745.53</td>\n",
              "      <td>81.0</td>\n",
              "      <td>8437.39</td>\n",
              "      <td>1</td>\n",
              "    </tr>\n",
              "    <tr>\n",
              "      <td>4</td>\n",
              "      <td>66.0</td>\n",
              "      <td>418.74</td>\n",
              "      <td>1.0</td>\n",
              "      <td>14502.75</td>\n",
              "      <td>0</td>\n",
              "    </tr>\n",
              "  </tbody>\n",
              "</table>\n",
              "</div>"
            ],
            "text/plain": [
              "   calls  minutes  messages   mb_used  is_ultra\n",
              "0   40.0   311.90      83.0  19915.42         0\n",
              "1   85.0   516.75      56.0  22696.96         0\n",
              "2   77.0   467.66      86.0  21060.45         0\n",
              "3  106.0   745.53      81.0   8437.39         1\n",
              "4   66.0   418.74       1.0  14502.75         0"
            ]
          },
          "metadata": {
            "tags": []
          },
          "execution_count": 3
        }
      ]
    },
    {
      "cell_type": "markdown",
      "metadata": {
        "id": "MMOnM5TKl-uH"
      },
      "source": [
        "Из таблицы видно, что в столбце \"is_ultra\" показано, является ли эта строка тарифом Ультра (\"is_ultra\" = 1) или тарифом Смарт (\"is_ultra\" = 0)"
      ]
    },
    {
      "cell_type": "code",
      "metadata": {
        "id": "vb-8cFqMl-uI",
        "outputId": "55ffa536-aa16-47d8-a073-86eac29f242b"
      },
      "source": [
        "df.info()"
      ],
      "execution_count": null,
      "outputs": [
        {
          "output_type": "stream",
          "text": [
            "<class 'pandas.core.frame.DataFrame'>\n",
            "RangeIndex: 3214 entries, 0 to 3213\n",
            "Data columns (total 5 columns):\n",
            "calls       3214 non-null float64\n",
            "minutes     3214 non-null float64\n",
            "messages    3214 non-null float64\n",
            "mb_used     3214 non-null float64\n",
            "is_ultra    3214 non-null int64\n",
            "dtypes: float64(4), int64(1)\n",
            "memory usage: 125.7 KB\n"
          ],
          "name": "stdout"
        }
      ]
    },
    {
      "cell_type": "markdown",
      "metadata": {
        "id": "HnA46t8Tl-uJ"
      },
      "source": [
        "## Разделение исходных данных на обучающую, валидационную и тестовую выборки"
      ]
    },
    {
      "cell_type": "code",
      "metadata": {
        "id": "MYkvBoryl-uJ"
      },
      "source": [
        "features = df.drop(['is_ultra'], axis=1)\n",
        "target = df['is_ultra']"
      ],
      "execution_count": null,
      "outputs": []
    },
    {
      "cell_type": "code",
      "metadata": {
        "id": "heKjo-mQl-uK"
      },
      "source": [
        "train, valid, test = np.split(df.sample(frac=1, random_state=42),[int(.6*len(df)), int(.8*len(df))])"
      ],
      "execution_count": null,
      "outputs": []
    },
    {
      "cell_type": "code",
      "metadata": {
        "id": "FoECHyuql-uK"
      },
      "source": [
        "features_train = train.drop(['is_ultra'], axis=1)\n",
        "target_train = train['is_ultra']"
      ],
      "execution_count": null,
      "outputs": []
    },
    {
      "cell_type": "code",
      "metadata": {
        "id": "KK65lNbVl-uK"
      },
      "source": [
        "features_valid = valid.drop(['is_ultra'], axis=1)\n",
        "target_valid = valid['is_ultra']"
      ],
      "execution_count": null,
      "outputs": []
    },
    {
      "cell_type": "code",
      "metadata": {
        "id": "XTp4fl27l-uK"
      },
      "source": [
        "features_test = test.drop(['is_ultra'], axis=1)\n",
        "target_test = test['is_ultra']"
      ],
      "execution_count": null,
      "outputs": []
    },
    {
      "cell_type": "code",
      "metadata": {
        "id": "Hx6ySk8al-uL",
        "outputId": "9c84090f-2194-4062-ed93-419379ac1e2b"
      },
      "source": [
        "print('Размер таблицы признаков для тренировочной выборки:', len(features_train))\n",
        "print('Размер таблицы целевых значений для тренировочной выборки:', len(target_train))"
      ],
      "execution_count": null,
      "outputs": [
        {
          "output_type": "stream",
          "text": [
            "Размер таблицы признаков для тренировочной выборки: 1928\n",
            "Размер таблицы целевых значений для тренировочной выборки: 1928\n"
          ],
          "name": "stdout"
        }
      ]
    },
    {
      "cell_type": "code",
      "metadata": {
        "id": "QKxyYjIGl-uL",
        "outputId": "713ab3e3-96d6-4203-ed12-7326996eba4d"
      },
      "source": [
        "print('Размер таблицы признаков для валидационной выборки:', len(features_valid))\n",
        "print('Размер таблицы целевых значений для валидационной выборки:', len(target_valid))"
      ],
      "execution_count": null,
      "outputs": [
        {
          "output_type": "stream",
          "text": [
            "Размер таблицы признаков для валидационной выборки: 643\n",
            "Размер таблицы целевых значений для валидационной выборки: 643\n"
          ],
          "name": "stdout"
        }
      ]
    },
    {
      "cell_type": "code",
      "metadata": {
        "id": "73gQuvB1l-uL",
        "outputId": "b8dcc2cc-4982-4e6b-e5aa-2b7d4d43a379"
      },
      "source": [
        "print('Размер таблицы признаков для тестовой выборки:', len(features_test))\n",
        "print('Размер таблицы целевых значений для тестовой выборки:', len(target_test))"
      ],
      "execution_count": null,
      "outputs": [
        {
          "output_type": "stream",
          "text": [
            "Размер таблицы признаков для тестовой выборки: 643\n",
            "Размер таблицы целевых значений для тестовой выборки: 643\n"
          ],
          "name": "stdout"
        }
      ]
    },
    {
      "cell_type": "markdown",
      "metadata": {
        "id": "hYr6camcl-uN"
      },
      "source": [
        "## Исследование качества разных моделей, с разными значениями гиперпараметров"
      ]
    },
    {
      "cell_type": "markdown",
      "metadata": {
        "id": "w6ab8faFl-uN"
      },
      "source": [
        "    \n",
        "Исследую модели в следующем порядке:\n",
        "    \n",
        "* логистическая регрессия\n",
        "* случайный лес\n",
        "* дерево решений\n",
        " "
      ]
    },
    {
      "cell_type": "markdown",
      "metadata": {
        "id": "7XC1r6rsl-uN"
      },
      "source": [
        "<div>\n",
        "    \n",
        "<b> Логистическая регрессия</b>\n",
        "    \n",
        "</div>"
      ]
    },
    {
      "cell_type": "code",
      "metadata": {
        "id": "wuAX_h0vl-uN",
        "outputId": "e7e965a7-5ef6-4894-d52b-b6a443961ecc"
      },
      "source": [
        "model = LogisticRegression(random_state=12345)\n",
        "model.fit(features_train, target_train)\n",
        "result = model.score(features_valid, target_valid)\n",
        "print(\"Accuracy модели логистической регрессии на валидационной выборке:\", result)"
      ],
      "execution_count": null,
      "outputs": [
        {
          "output_type": "stream",
          "text": [
            "Accuracy модели логистической регрессии на валидационной выборке: 0.7309486780715396\n"
          ],
          "name": "stdout"
        }
      ]
    },
    {
      "cell_type": "markdown",
      "metadata": {
        "id": "3Qky3o8-l-uO"
      },
      "source": [
        "<div>\n",
        "    \n",
        "<b> Случайный лес</b>\n",
        "    \n",
        "</div>"
      ]
    },
    {
      "cell_type": "code",
      "metadata": {
        "id": "cr0mqJh5l-uO",
        "outputId": "ba61e354-f43c-4100-9c54-fcbecf71f3cb"
      },
      "source": [
        "best_model = None\n",
        "best_result = 0\n",
        "for est in range(1, 10):\n",
        "    model = RandomForestClassifier(random_state=12345, n_estimators=est)\n",
        "    model.fit(features_train, target_train)\n",
        "    result = model.score(features_valid, target_valid)\n",
        "    if result > best_result:\n",
        "        best_model_1 = model\n",
        "        best_result = model.score(features_valid, target_valid)\n",
        "        est1 = est\n",
        "\n",
        "print(\"Accuracy наилучшей модели на валидационной выборке:\", best_result)\n",
        "print(\"Количество деревьев в модели:\", est1)"
      ],
      "execution_count": null,
      "outputs": [
        {
          "output_type": "stream",
          "text": [
            "Accuracy наилучшей модели на валидационной выборке: 0.7884914463452566\n",
            "Количество деревьев в модели: 4\n"
          ],
          "name": "stdout"
        }
      ]
    },
    {
      "cell_type": "markdown",
      "metadata": {
        "id": "SnICnuMal-uO"
      },
      "source": [
        "<div>\n",
        "    \n",
        "<b> Дерево решений</b>\n",
        "    \n",
        "</div>"
      ]
    },
    {
      "cell_type": "code",
      "metadata": {
        "id": "cJRygkdkl-uP",
        "outputId": "238c3471-8abb-4598-827a-9261b7022448"
      },
      "source": [
        "best_model = None\n",
        "best_result = 0\n",
        "for depth in range(1, 10):\n",
        "    model = DecisionTreeClassifier(random_state=12345, max_depth=depth)\n",
        "    model.fit(features_train, target_train)\n",
        "    predictions = model.predict(features_valid)\n",
        "    result = accuracy_score(predictions, target_valid)\n",
        "    if result > best_result:\n",
        "        best_model_2 = model\n",
        "        best_result = result\n",
        "        depth1 = depth\n",
        "        \n",
        "print(\"Accuracy лучшей модели:\", best_result)\n",
        "print(\"Глубина модели:\",  depth1)"
      ],
      "execution_count": null,
      "outputs": [
        {
          "output_type": "stream",
          "text": [
            "Accuracy лучшей модели: 0.7900466562986003\n",
            "Глубина модели: 9\n"
          ],
          "name": "stdout"
        }
      ]
    },
    {
      "cell_type": "markdown",
      "metadata": {
        "id": "FDdxXV-Vl-uQ"
      },
      "source": [
        "<div>\n",
        "    \n",
        "<b> Вывод по разделу:</b>\n",
        "    \n",
        "Исходя из значений accuracy лучше всего предсказывает Дерево решений. Но необходимо проверить, не переобучилась ли модель.   \n",
        "    \n",
        "</div>"
      ]
    },
    {
      "cell_type": "markdown",
      "metadata": {
        "id": "gdx-6uX9l-uR"
      },
      "source": [
        "## Проверка качества модели на тестовой выборке"
      ]
    },
    {
      "cell_type": "code",
      "metadata": {
        "id": "2VdvAocBl-uR",
        "outputId": "6b22ea23-9186-4a26-bf56-61478fed143e"
      },
      "source": [
        "predictions = best_model_2.predict(features_test)\n",
        "result = accuracy_score(predictions, target_test)\n",
        "        \n",
        "print(\"Accuracy модели:\", result)"
      ],
      "execution_count": null,
      "outputs": [
        {
          "output_type": "stream",
          "text": [
            "Accuracy модели: 0.8009331259720062\n"
          ],
          "name": "stdout"
        }
      ]
    },
    {
      "cell_type": "markdown",
      "metadata": {
        "id": "y_GpCZABl-uR"
      },
      "source": [
        "Поскольку оценка качества модели на тестовых данных почти равна оценке на валидационных, можно сказать, что модель не переобучилась."
      ]
    },
    {
      "cell_type": "markdown",
      "metadata": {
        "id": "szMrLMXyl-uS"
      },
      "source": [
        "## Проверка модели на вменяемость"
      ]
    },
    {
      "cell_type": "code",
      "metadata": {
        "id": "KetY4oPil-uS"
      },
      "source": [
        "my_list = [randint(0, 1) for i in range(len(predictions))]"
      ],
      "execution_count": null,
      "outputs": []
    },
    {
      "cell_type": "code",
      "metadata": {
        "id": "LiPbqiV2l-uT",
        "outputId": "8f4bc031-ae89-4a1d-dae2-f6bb8c4b6eec"
      },
      "source": [
        "result = accuracy_score(my_list, target_test)\n",
        "print(\"Accuracy рандома:\", result)"
      ],
      "execution_count": null,
      "outputs": [
        {
          "output_type": "stream",
          "text": [
            "Accuracy рандома: 0.49922239502332816\n"
          ],
          "name": "stdout"
        }
      ]
    },
    {
      "cell_type": "markdown",
      "metadata": {
        "id": "hWFg65-dl-uT"
      },
      "source": [
        "У случайно выбранных чисел accuracy составляет 0.5, а у итоговой модели 0.8, значит выбранная модель адекватна."
      ]
    },
    {
      "cell_type": "code",
      "metadata": {
        "id": "vZ-xdr0cl-uT",
        "outputId": "b9d56b1d-be33-4afb-b55a-d3b23be2a511"
      },
      "source": [
        "dum_model = DummyClassifier(strategy='constant', constant=target_train[0])\n",
        "dum_model.fit(features_train, target_train)\n",
        "predictions_1 = dum_model.predict(features_test)\n",
        "result = accuracy_score(predictions_1, target_test)\n",
        "print(\"Accuracy of DummyClassifier:\", result)"
      ],
      "execution_count": null,
      "outputs": [
        {
          "output_type": "stream",
          "text": [
            "Accuracy of DummyClassifier: 0.6905132192846034\n"
          ],
          "name": "stdout"
        }
      ]
    },
    {
      "cell_type": "markdown",
      "metadata": {
        "id": "Mhzc_qeel-uU"
      },
      "source": [
        "Запустил модель DummyClassifier. Значение acceracy получилось 0,69. Это доля нулей в датафрейме target_test. Поскольку в итоговой модели для предсказаний тарифа значение acceracy больше значения для DummyClassifier, значит модель адекватна."
      ]
    },
    {
      "cell_type": "markdown",
      "metadata": {
        "id": "Gb6ge1cGl-uU"
      },
      "source": [
        "## Общий вывод"
      ]
    },
    {
      "cell_type": "markdown",
      "metadata": {
        "id": "LuRMI2oTl-uU"
      },
      "source": [
        "В данном проекте было произведено сравнение нескольких моделей машинного обучения.\n",
        "\n",
        "Предварительно данные были разбиты на тренировочную, валидационную и тестовую выборки. Затем были применены 3 вида обучающих моделей: логистическая регрессия, случайный лес, дерево решений. После настройки и примения моделей к тренировочной выборке была произведена оценка каждой модели. Лучшее качество модели показало Дерево решений. Случайный лес показал почти такие же результаты (отставание от дерева решений минимально). Логистическая регрессия показала оценку 0.73, что не подходит под условия задачи.\n",
        "\n",
        "После того, как модель с оптимальными гиперпараметрами была определена, была проведена проверка на переобучение, которая показала, что модель не переобучена. \n",
        "\n",
        "Далее была проведена проверка на вменяемость: был составлен список со случайными числами (0 или 1), той же длины, что и список предсказанный моделью. Затем было произведено сравнение списка случайных чисел со списком правильных ответов. Соответствие случайных и правильных значений было в половине случаев. Если посмотреть на значение accuracy модели Дерева решений (0.8) то можно сказать, что полученная модель адекватна."
      ]
    }
  ]
}